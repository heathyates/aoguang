{
 "cells": [
  {
   "cell_type": "markdown",
   "metadata": {},
   "source": [
    "## Python + UV - Benchmarking \n",
    "Heath Yates \n",
    "\n",
    "### References \n",
    "- (Python Setup UV)[https://github.com/rasbt/LLMs-from-scratch/tree/main/setup/01_optional-python-setup-preferenceshttps://github.com/rasbt/LLMs-from-scratch/tree/main/setup/01_optional-python-setup-preferences]"
   ]
  },
  {
   "cell_type": "code",
   "execution_count": null,
   "metadata": {
    "vscode": {
     "languageId": "plaintext"
    }
   },
   "outputs": [],
   "source": [
    "#Get the dependencies \n",
    "pip install uv \n",
    "uv venv env\n",
    "source env/bin/activate\n",
    "uv pip install packaging\n",
    "uv pip install -U -r https://raw.githubusercontent.com/rasbt/LLMs-from-scratch/refs/heads/main/requirements.txt\n"
   ]
  },
  {
   "cell_type": "markdown",
   "metadata": {},
   "source": [
    "## Benchmark installing Sebastians Pipeline \n",
    "\n",
    "### Vanilla PIP install \n",
    "\n",
    "### Requirements\n",
    "\n",
    "### Graphc of Comparison "
   ]
  }
 ],
 "metadata": {
  "language_info": {
   "name": "python"
  }
 },
 "nbformat": 4,
 "nbformat_minor": 2
}
